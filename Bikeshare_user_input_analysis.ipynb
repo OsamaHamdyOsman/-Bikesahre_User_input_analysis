{
 "cells": [
  {
   "cell_type": "markdown",
   "metadata": {},
   "source": [
    "# Overview\n",
    "This project is part of the Data Analyst Nanodegree program of Udacity.\n",
    "Through this project i will solicit user input to guide the analysis of bikeshare datasets in three different American cities; Washington, Chicago and NYC.  "
   ]
  },
  {
   "cell_type": "code",
   "execution_count": 1,
   "metadata": {},
   "outputs": [],
   "source": [
    "# Importing required packages\n",
    "import time\n",
    "import pandas as pd\n",
    "import numpy as np"
   ]
  },
  {
   "cell_type": "code",
   "execution_count": 2,
   "metadata": {},
   "outputs": [],
   "source": [
    "# mapping data files to corresponding city names via a dictionary\n",
    "CITY_DATA = { 'chicago': 'chicago.csv',\n",
    "              'new york city': 'new_york_city.csv',\n",
    "              'washington': 'washington.csv' }\n"
   ]
  },
  {
   "cell_type": "code",
   "execution_count": 7,
   "metadata": {},
   "outputs": [],
   "source": [
    "# Getting the user input for the selected city\n",
    "def get_city_filters():\n",
    "    \"\"\"\n",
    "    Asks user to specify a city, month, and day to analyze.\n",
    "\n",
    "    Returns:\n",
    "        (str) city - name of the city to analyze\n",
    "        (str) month - name of the month to filter by, or \"all\" to apply no month filter\n",
    "        (str) day - name of the day of week to filter by, or \"all\" to apply no day filter\n",
    "    \"\"\"\n",
    "    print('Hello! Let\\'s explore some US bikeshare data!')\n",
    "    \n",
    "    # get user input for city (chicago, new york city, washington). HINT: Use a while loop to handle invalid inputs\n",
    "    city_selection = input('To view the available bikeshare data, type:\\n (a) for Chicago\\n (b) for New York City\\n (c) for Washington:\\n  ').lower()\n",
    "    \n",
    "    # If the answer is invalid, repeat the question.\n",
    "    while city_selection not in {'a','b','c'}:\n",
    "        print('That\\'s invalid input.')\n",
    "        city_selection = input('To view the available bikeshare data, type:\\n (a) for Chicago\\n (b) for New York City\\n (c) for Washington:\\n  ').lower()\n",
    "\n",
    "    if city_selection == \"a\":\n",
    "        city = 'chicago'\n",
    "    elif city_selection == \"b\":\n",
    "        city = 'new york city'\n",
    "    elif city_selection == \"c\":\n",
    "        city = \"washington\"\n",
    "    \n",
    "    print('-'*40)\n",
    "    print (city)\n",
    "    return city"
   ]
  },
  {
   "cell_type": "code",
   "execution_count": 4,
   "metadata": {},
   "outputs": [
    {
     "name": "stdout",
     "output_type": "stream",
     "text": [
      "Hello! Let's explore some US bikeshare data!\n",
      "To view the available bikeshare data, type:\n",
      " (a) for Chicago\n",
      " (b) for New York City\n",
      " (c) for Washington:\n",
      "  a\n",
      "----------------------------------------\n"
     ]
    },
    {
     "data": {
      "text/plain": [
       "'chicago'"
      ]
     },
     "execution_count": 4,
     "metadata": {},
     "output_type": "execute_result"
    }
   ],
   "source": [
    "get_city_filters()"
   ]
  },
  {
   "cell_type": "code",
   "execution_count": 8,
   "metadata": {},
   "outputs": [],
   "source": [
    "# Getting user input for time frame\n",
    "def get_time_filters():\n",
    "    print('What\\'s the time window you want view the analysis for?')\n",
    "    time_frame = input('\\n\\nWould you like to filter {}\\'s data by month, day, both, or neither of them?\\nKindly type \"month\" or \"day\" or \"both\" or \"none\": \\n'.format(city.title())).lower()\n",
    "    \n",
    "    # Repeat the question in case of invalid input\n",
    "    while time_frame not in {'none', 'both','month','day'}:\n",
    "        print('That\\'s not a valid choice')\n",
    "        time_frame = input('\\n\\nWould you like to filter {}\\'s data by month, day, both, or not at all? type month or day or both or none: \\n\\n'.format(city.title())).lower()\n",
    "    \n",
    "    # If no time frame selected analyze the whole period of the chosen city dataset.  \n",
    "    if time_frame == 'none':\n",
    "        print('\\nFiltering for {} for the 6 months period\\n\\n'.format(city.title()))\n",
    "        month = 'all'\n",
    "        day = 'all'\n",
    "    \n",
    "    # If filtering by both month and day is selected, get the user input for the month and day\n",
    "    elif time_frame == 'both':\n",
    "        \n",
    "        # Get month selection\n",
    "        month = input('which month? Please type out (January / February / March / April / May / June)\\n').lower()\n",
    "        while month not in ['january', 'february', 'march', 'april', 'may', 'june']:\n",
    "            print('Invalid month choice!!')\n",
    "            month = input('which month? Please type out (January / February / March / April / May / June)\\n').lower()\n",
    "        \n",
    "        # Get day Selection\n",
    "        day = input('Which day? Please type a day: Monday, Tuesday, Wednesday, Thursday, Friday, Saturday, Sunday.\\n').lower()\n",
    "        while day not in ['monday', 'tuesday', 'wednesday', 'thursday', 'friday', 'saturday', 'sunday']:\n",
    "            print('Invalid day choice!!')\n",
    "            day = input('Which day? Please type a day: Monday, Tuesday, Wednesday, Thursday, Friday, Saturday, Sunday.\\n').lower()\n",
    "            \n",
    "    # If filtering by month only\n",
    "    elif time_frame == 'month':\n",
    "        # Get month selection\n",
    "        month = input('which month? Please type out (January / February / March / April / May / June)\\n').lower()\n",
    "        while month not in ['january', 'february', 'march', 'april', 'may', 'june']:\n",
    "            print('Invalid month choice!!')\n",
    "            month = input('which month? Please type out (January / February / March / April / May / June)\\n').lower()\n",
    "        \n",
    "        # As there's no day filter, set the day to \"all\"    \n",
    "        day = 'all'\n",
    "    \n",
    "    # If Filtering by day only\n",
    "    elif time_frame == 'day':\n",
    "        day = input('Which day? Please type a day: Monday, Tuesday, Wednesday, Thursday, Friday, Saturday, Sunday.\\n').lower()\n",
    "        while day not in ['monday', 'tuesday', 'wednesday', 'thursday', 'friday', 'saturday', 'sunday']:\n",
    "            print('Invalid day choice!!')\n",
    "            day = input('Which day? Please type a day: Monday, Tuesday, Wednesday, Thursday, Friday, Saturday, Sunday.\\n').lower()\n",
    "        \n",
    "        # Set month to all\n",
    "        month = 'all'\n",
    "        \n",
    "    print('-'*40)\n",
    "    print(\"selected month: {}, selected day: {}\".format(month, day))\n",
    "    return (month, day)"
   ]
  },
  {
   "cell_type": "code",
   "execution_count": 9,
   "metadata": {},
   "outputs": [
    {
     "name": "stdout",
     "output_type": "stream",
     "text": [
      "Hello! Let's explore some US bikeshare data!\n",
      "To view the available bikeshare data, type:\n",
      " (a) for Chicago\n",
      " (b) for New York City\n",
      " (c) for Washington:\n",
      "  c\n",
      "----------------------------------------\n",
      "washington\n",
      "What's the time window you want view the analysis for?\n",
      "\n",
      "\n",
      "Would you like to filter Washington's data by month, day, both, or neither of them?\n",
      "Kindly type \"month\" or \"day\" or \"both\" or \"none\": \n",
      "both\n",
      "which month? Please type out (January / February / March / April / May / June)\n",
      "january\n",
      "Which day? Please type a day: Monday, Tuesday, Wednesday, Thursday, Friday, Saturday, Sunday.\n",
      "tuesday\n",
      "----------------------------------------\n",
      "selected month: january, selected day: tuesday\n"
     ]
    }
   ],
   "source": [
    "city = get_city_filters()\n",
    "month, day = get_time_filters()"
   ]
  },
  {
   "cell_type": "code",
   "execution_count": 11,
   "metadata": {},
   "outputs": [],
   "source": [
    "def load_data(city, month, day):\n",
    "    \"\"\"\n",
    "    Loads data for the specified city and filters by month and day if applicable.\n",
    "\n",
    "    Args:\n",
    "        (str) city - name of the city to analyze\n",
    "        (str) month - name of the month to filter by, or \"all\" to apply no month filter\n",
    "        (str) day - name of the day of week to filter by, or \"all\" to apply no day filter\n",
    "    Returns:\n",
    "        df - Pandas DataFrame containing city data filtered by month and day\n",
    "    \"\"\"\n",
    "    # load data file into a dataframe\n",
    "    df = pd.read_csv(CITY_DATA[city])\n",
    "\n",
    "    # convert the Start Time column to datetime\n",
    "    df['Start Time'] = pd.to_datetime(df['Start Time'])\n",
    "\n",
    "    # extract month and day of week from Start Time to create new columns\n",
    "    df['month'] = df['Start Time'].dt.month\n",
    "    df['day_of_week'] = df['Start Time'].dt.weekday_name\n",
    "    # filter by month if applicable\n",
    "    if month != 'all':\n",
    "        # use the index of the months list to get the corresponding int\n",
    "        months = ['january', 'february', 'march', 'april', 'may', 'june']\n",
    "        month = months.index(month) + 1\n",
    "\n",
    "        # filter by month to create the new dataframe\n",
    "        df = df[df['month']==month]\n",
    "\n",
    "    # filter by day of week if applicable\n",
    "    if day != 'all':\n",
    "        # filter by day of week to create the new dataframe\n",
    "        df = df[df['day_of_week']==day.title()]\n",
    "\n",
    "    return df\n",
    "\n",
    "load_data(city, month, day)\n",
    "df = load_data(city, month, day)"
   ]
  },
  {
   "cell_type": "code",
   "execution_count": 13,
   "metadata": {},
   "outputs": [
    {
     "name": "stdout",
     "output_type": "stream",
     "text": [
      "\n",
      "Calculating The Most Frequent Times of Travel...\n",
      "\n",
      "Most Popular Start Hour: 17\n",
      "\n",
      "This took 0.13762998580932617 seconds.\n",
      "----------------------------------------\n"
     ]
    }
   ],
   "source": [
    "# Gleaning some time statistics\n",
    "def time_stats(df):\n",
    "    \"\"\"Displays statistics on the most frequent times of travel.\"\"\"\n",
    "    print('\\nCalculating The Most Frequent Times of Travel...\\n')\n",
    "    start_time = time.time()\n",
    "    # display the most common month\n",
    "    if month == 'all':\n",
    "        # find the most popular month\n",
    "        popular_month = df['month'].mode()[0]\n",
    "        months = ['january', 'february', 'march', 'april', 'may', 'june']\n",
    "        popular_month = months[popular_month - 1]\n",
    "        print('Most Popular Start Month:', popular_month)\n",
    "\n",
    "    # display the most common day of week\n",
    "    if day == 'all':\n",
    "        popular_day = df['day_of_week'].mode()[0]\n",
    "        print('Most Popular Start day:', popular_day)\n",
    "\n",
    "    # display the most common start hour\n",
    "        # extract hour from the Start Time column to create an hour column\n",
    "    df['hour'] = df['Start Time'].dt.hour\n",
    "        # find the most popular hour\n",
    "    popular_hour = df['hour'].mode()[0]\n",
    "    print('Most Popular Start Hour:', popular_hour)\n",
    "\n",
    "    print(\"\\nThis took %s seconds.\" % (time.time() - start_time))\n",
    "    print('-'*40)\n",
    "    \n",
    "time_stats(df)"
   ]
  },
  {
   "cell_type": "code",
   "execution_count": 47,
   "metadata": {},
   "outputs": [
    {
     "name": "stdout",
     "output_type": "stream",
     "text": [
      "\n",
      "Calculating The Most Popular Stations and Trip...\n",
      "\n",
      "Most commonly used start station:  Columbus Circle / Union Station\n",
      "\n",
      "Most commonly used end station:  Columbus Circle / Union Station\n",
      "\n",
      "Most frequent combination of start station and end station trip:\n",
      "                          Start Station    End Station  count\n",
      "2657  Columbus Circle / Union Station  8th & F St NE     12\n",
      "\n",
      "This took 0.015958309173583984 seconds.\n",
      "----------------------------------------\n"
     ]
    }
   ],
   "source": [
    "def station_stats(df):\n",
    "    \"\"\"Displays statistics on the most popular stations and trip.\"\"\"\n",
    "\n",
    "    print('\\nCalculating The Most Popular Stations and Trip...\\n')\n",
    "    start_time = time.time()\n",
    "\n",
    "    # display most commonly used start station\n",
    "    popular_start_station = df['Start Station'].mode()[0]\n",
    "    print('Most commonly used start station: ', popular_start_station)\n",
    "\n",
    "    # display most commonly used end station\n",
    "    popular_end_station = df['End Station'].value_counts().index.tolist()[0]\n",
    "    print('\\nMost commonly used end station: ', popular_end_station)\n",
    "    \n",
    "    # display most frequent combination of start station and end station trip\n",
    "    most_frequent_route = df.groupby(['Start Station', 'End Station']).size().reset_index(name='count').sort_values('count',ascending=False).head(1)\n",
    "    print('\\nMost frequent combination of start station and end station trip:\\n ',most_frequent_route)\n",
    "\n",
    "    print(\"\\nThis took %s seconds.\" % (time.time() - start_time))\n",
    "    print('-'*40)\n",
    "\n",
    "station_stats(df)\n"
   ]
  },
  {
   "cell_type": "markdown",
   "metadata": {},
   "source": [
    "#### Comment:\n",
    ">Great! Another way is to merge the starting and ending columns into one column, ie a string representing the route, and then use the .value_counts() method to find the most common routes."
   ]
  },
  {
   "cell_type": "code",
   "execution_count": null,
   "metadata": {},
   "outputs": [],
   "source": []
  },
  {
   "cell_type": "code",
   "execution_count": null,
   "metadata": {},
   "outputs": [],
   "source": []
  },
  {
   "cell_type": "code",
   "execution_count": null,
   "metadata": {},
   "outputs": [],
   "source": []
  }
 ],
 "metadata": {
  "kernelspec": {
   "display_name": "Python 3",
   "language": "python",
   "name": "python3"
  },
  "language_info": {
   "codemirror_mode": {
    "name": "ipython",
    "version": 3
   },
   "file_extension": ".py",
   "mimetype": "text/x-python",
   "name": "python",
   "nbconvert_exporter": "python",
   "pygments_lexer": "ipython3",
   "version": "3.7.3"
  }
 },
 "nbformat": 4,
 "nbformat_minor": 2
}
